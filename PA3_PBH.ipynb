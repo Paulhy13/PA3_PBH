{
 "cells": [
  {
   "cell_type": "markdown",
   "id": "69c3a692",
   "metadata": {},
   "source": [
    "# PA3, Paul Hyden, FA22"
   ]
  },
  {
   "cell_type": "markdown",
   "id": "41933811",
   "metadata": {},
   "source": [
    "### Append() Adding something to end of a list"
   ]
  },
  {
   "cell_type": "code",
   "execution_count": 6,
   "id": "565a075d",
   "metadata": {},
   "outputs": [
    {
     "data": {
      "text/plain": [
       "[1, 2, 3, 4, 5]"
      ]
     },
     "execution_count": 6,
     "metadata": {},
     "output_type": "execute_result"
    }
   ],
   "source": [
    "paul = [1,2,3,4,5]\n",
    "paul"
   ]
  },
  {
   "cell_type": "code",
   "execution_count": 8,
   "id": "85f68acd",
   "metadata": {},
   "outputs": [],
   "source": [
    "paul.append(8)"
   ]
  },
  {
   "cell_type": "code",
   "execution_count": 9,
   "id": "eafb58be",
   "metadata": {},
   "outputs": [
    {
     "data": {
      "text/plain": [
       "[1, 2, 3, 4, 5, 8]"
      ]
     },
     "execution_count": 9,
     "metadata": {},
     "output_type": "execute_result"
    }
   ],
   "source": [
    "paul"
   ]
  },
  {
   "cell_type": "markdown",
   "id": "b57d9a11",
   "metadata": {},
   "source": [
    "### Extend() Basically the same as Append but it adds a list to the end of a list"
   ]
  },
  {
   "cell_type": "code",
   "execution_count": 17,
   "id": "8e995eb4",
   "metadata": {},
   "outputs": [
    {
     "data": {
      "text/plain": [
       "[11, 12, 13]"
      ]
     },
     "execution_count": 17,
     "metadata": {},
     "output_type": "execute_result"
    }
   ],
   "source": [
    "hyden = [11,12,13]\n",
    "hyden"
   ]
  },
  {
   "cell_type": "code",
   "execution_count": 21,
   "id": "b8509ae8",
   "metadata": {},
   "outputs": [
    {
     "data": {
      "text/plain": [
       "[1, 2, 3, 4, 5, 11, 12, 13]"
      ]
     },
     "execution_count": 21,
     "metadata": {},
     "output_type": "execute_result"
    }
   ],
   "source": [
    "paul.extend(hyden)\n",
    "paul"
   ]
  },
  {
   "cell_type": "markdown",
   "id": "f347c85f",
   "metadata": {},
   "source": [
    "### Insert() Insert a value at a specified location"
   ]
  },
  {
   "cell_type": "code",
   "execution_count": 22,
   "id": "81ddee64",
   "metadata": {},
   "outputs": [
    {
     "data": {
      "text/plain": [
       "[0, 1, 2, 3, 4, 5, 11, 12, 13]"
      ]
     },
     "execution_count": 22,
     "metadata": {},
     "output_type": "execute_result"
    }
   ],
   "source": [
    "paul.insert(0,0)\n",
    "paul"
   ]
  },
  {
   "cell_type": "markdown",
   "id": "97905141",
   "metadata": {},
   "source": [
    "### Remove() Will remove the first occurrence of the element with a specified value"
   ]
  },
  {
   "cell_type": "code",
   "execution_count": 23,
   "id": "698f6d83",
   "metadata": {},
   "outputs": [
    {
     "data": {
      "text/plain": [
       "[0, 1, 2, 3, 4, 5, 12, 13]"
      ]
     },
     "execution_count": 23,
     "metadata": {},
     "output_type": "execute_result"
    }
   ],
   "source": [
    "paul.remove(11)\n",
    "paul"
   ]
  },
  {
   "cell_type": "markdown",
   "id": "df0ab15f",
   "metadata": {},
   "source": [
    "### Count() Returns the number of times a element occurs in a list"
   ]
  },
  {
   "cell_type": "code",
   "execution_count": 31,
   "id": "fdc4b63a",
   "metadata": {},
   "outputs": [
    {
     "data": {
      "text/plain": [
       "1"
      ]
     },
     "execution_count": 31,
     "metadata": {},
     "output_type": "execute_result"
    }
   ],
   "source": [
    "paul.count(4)"
   ]
  },
  {
   "cell_type": "markdown",
   "id": "c1f3a2f4",
   "metadata": {},
   "source": [
    "### Index() Returns the position at the first occurrence of a specified value"
   ]
  },
  {
   "cell_type": "code",
   "execution_count": 32,
   "id": "b5abf295",
   "metadata": {},
   "outputs": [
    {
     "data": {
      "text/plain": [
       "[0, 1, 2, 3, 4, 5, 12, 13]"
      ]
     },
     "execution_count": 32,
     "metadata": {},
     "output_type": "execute_result"
    }
   ],
   "source": [
    "paul"
   ]
  },
  {
   "cell_type": "code",
   "execution_count": 33,
   "id": "85aaa665",
   "metadata": {},
   "outputs": [
    {
     "data": {
      "text/plain": [
       "3"
      ]
     },
     "execution_count": 33,
     "metadata": {},
     "output_type": "execute_result"
    }
   ],
   "source": [
    "paul.index(3)"
   ]
  },
  {
   "cell_type": "markdown",
   "id": "d108ff66",
   "metadata": {},
   "source": [
    "### Pop() Removes an element at the specified location"
   ]
  },
  {
   "cell_type": "code",
   "execution_count": 37,
   "id": "06c66f2b",
   "metadata": {},
   "outputs": [
    {
     "data": {
      "text/plain": [
       "[0, 2, 3, 4, 5, 12, 13]"
      ]
     },
     "execution_count": 37,
     "metadata": {},
     "output_type": "execute_result"
    }
   ],
   "source": [
    "paul = [0,1,2,3,4,5,12,13]\n",
    "paul.pop(1)\n",
    "paul"
   ]
  },
  {
   "cell_type": "markdown",
   "id": "27011540",
   "metadata": {},
   "source": [
    "### Sorted() Will sort a list in numerical or alphabetical order"
   ]
  },
  {
   "cell_type": "code",
   "execution_count": 39,
   "id": "9503fb63",
   "metadata": {},
   "outputs": [
    {
     "data": {
      "text/plain": [
       "[1, 3, 5, 6, 10]"
      ]
     },
     "execution_count": 39,
     "metadata": {},
     "output_type": "execute_result"
    }
   ],
   "source": [
    "paul = [1,3,10,5,6]\n",
    "paul.sort()\n",
    "paul"
   ]
  },
  {
   "cell_type": "markdown",
   "id": "a672fe23",
   "metadata": {},
   "source": [
    "### Copy() Returns a copy of the specified list "
   ]
  },
  {
   "cell_type": "code",
   "execution_count": 40,
   "id": "b478fcff",
   "metadata": {},
   "outputs": [
    {
     "data": {
      "text/plain": [
       "[1, 3, 5, 6, 10]"
      ]
     },
     "execution_count": 40,
     "metadata": {},
     "output_type": "execute_result"
    }
   ],
   "source": [
    "hyden = paul.copy()\n",
    "hyden"
   ]
  },
  {
   "cell_type": "markdown",
   "id": "56ab9252",
   "metadata": {},
   "source": [
    "### Clear() Removes all elements from a list"
   ]
  },
  {
   "cell_type": "code",
   "execution_count": 41,
   "id": "ffade1ee",
   "metadata": {},
   "outputs": [
    {
     "data": {
      "text/plain": [
       "[]"
      ]
     },
     "execution_count": 41,
     "metadata": {},
     "output_type": "execute_result"
    }
   ],
   "source": [
    "hyden.clear()\n",
    "hyden"
   ]
  },
  {
   "cell_type": "markdown",
   "id": "7530f1fd",
   "metadata": {},
   "source": [
    "### List() Used to store multiple items in a single variable"
   ]
  },
  {
   "cell_type": "code",
   "execution_count": 42,
   "id": "8987bd07",
   "metadata": {},
   "outputs": [
    {
     "data": {
      "text/plain": [
       "['paul', 'Bernard', 'Hyden']"
      ]
     },
     "execution_count": 42,
     "metadata": {},
     "output_type": "execute_result"
    }
   ],
   "source": [
    "list = ['paul', 'Bernard', 'Hyden']\n",
    "list"
   ]
  },
  {
   "cell_type": "markdown",
   "id": "6d5b4634",
   "metadata": {},
   "source": [
    "### Len() Returns the number of items in a list"
   ]
  },
  {
   "cell_type": "code",
   "execution_count": 45,
   "id": "9f45aac2",
   "metadata": {},
   "outputs": [
    {
     "data": {
      "text/plain": [
       "3"
      ]
     },
     "execution_count": 45,
     "metadata": {},
     "output_type": "execute_result"
    }
   ],
   "source": [
    "x = len(list)\n",
    "x\n"
   ]
  },
  {
   "cell_type": "markdown",
   "id": "e4668e30",
   "metadata": {},
   "source": [
    "### Max() Returns the item with the highest value in a list"
   ]
  },
  {
   "cell_type": "code",
   "execution_count": 46,
   "id": "9b3bf923",
   "metadata": {},
   "outputs": [
    {
     "data": {
      "text/plain": [
       "10"
      ]
     },
     "execution_count": 46,
     "metadata": {},
     "output_type": "execute_result"
    }
   ],
   "source": [
    "hyden = max(paul)\n",
    "hyden"
   ]
  },
  {
   "cell_type": "markdown",
   "id": "17848cf8",
   "metadata": {},
   "source": [
    "### Min() Returns the item with the lowest value in a list"
   ]
  },
  {
   "cell_type": "code",
   "execution_count": 47,
   "id": "e40cb9b7",
   "metadata": {},
   "outputs": [
    {
     "data": {
      "text/plain": [
       "1"
      ]
     },
     "execution_count": 47,
     "metadata": {},
     "output_type": "execute_result"
    }
   ],
   "source": [
    "hyden = min(paul)\n",
    "hyden"
   ]
  },
  {
   "cell_type": "code",
   "execution_count": null,
   "id": "546b73c0",
   "metadata": {},
   "outputs": [],
   "source": []
  }
 ],
 "metadata": {
  "kernelspec": {
   "display_name": "Python 3 (ipykernel)",
   "language": "python",
   "name": "python3"
  },
  "language_info": {
   "codemirror_mode": {
    "name": "ipython",
    "version": 3
   },
   "file_extension": ".py",
   "mimetype": "text/x-python",
   "name": "python",
   "nbconvert_exporter": "python",
   "pygments_lexer": "ipython3",
   "version": "3.9.13"
  }
 },
 "nbformat": 4,
 "nbformat_minor": 5
}
